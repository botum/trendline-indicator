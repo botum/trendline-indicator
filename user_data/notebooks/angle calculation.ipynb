{
 "cells": [
  {
   "cell_type": "code",
   "execution_count": 18,
   "metadata": {},
   "outputs": [
    {
     "name": "stdout",
     "output_type": "stream",
     "text": [
      "341.565051177078\n",
      "line angle:  -21.80140948635181\n",
      "2.5 -13.333333333333336 0.9933992677987828 0.07318639504032738 0.2886751345948133\n"
     ]
    },
    {
     "data": {
      "image/png": "[encoded data removed]",
      "text/plain": [
       "<matplotlib.figure.Figure at 0x7fbd0c0a5710>"
      ]
     },
     "metadata": {},
     "output_type": "display_data"
    }
   ],
   "source": [
    "import numpy as np\n",
    "import matplotlib.pyplot as plt\n",
    "from scipy import linspace, polyval, polyfit, sqrt, stats, randn\n",
    "\n",
    "def angle_between(p1, p2):\n",
    "    ang1 = np.arctan2(*p1[::-1])\n",
    "    ang2 = np.arctan2(*p2[::-1])\n",
    "    return np.rad2deg((ang1 - ang2) % (2 * np.pi))\n",
    "A = (10, 10)\n",
    "B = (20, 40)\n",
    "C = (30, 60)\n",
    "# ax: 7\n",
    "# ay: 0.070008\n",
    "# bx: 45\n",
    "# by: 0.07105\n",
    "print(angle_between(A, B))\n",
    "\n",
    "angle = np.rad2deg(np.arctan2(A[0]-C[0],C[1] - A[1]))\n",
    "\n",
    "print('line angle: ', angle)\n",
    "\n",
    "# print (np.rad2deg(np.arctan(cf[0])))\n",
    "\n",
    "slope, intercept, r_value, p_value, std_err = stats.linregress([A[0], B[0], C[0]], [A[1], B[1], C[1]])\n",
    "\n",
    "print(slope, intercept, r_value, p_value, std_err)\n",
    "\n",
    "plt.plot([A[0], B[0]], [A[1], B[1]], color='b')\n",
    "plt.axhline(y=15, linewidth=1, color='r')\n",
    "plt.scatter(A[0], A[1], color='r')\n",
    "plt.scatter(B[0], B[1], color='g')\n",
    "plt.ylim(ymin=0,ymax=100) \n",
    "plt.xlim(xmin=0, xmax=100) \n",
    "#     plt.savefig(filename)\n",
    "plt.show()\n",
    "plt.close()\n"
   ]
  },
  {
   "cell_type": "code",
   "execution_count": null,
   "metadata": {},
   "outputs": [],
   "source": []
  }
 ],
 "metadata": {
  "kernelspec": {
   "display_name": "Python 3",
   "language": "python",
   "name": "python3"
  },
  "language_info": {
   "codemirror_mode": {
    "name": "ipython",
    "version": 3
   },
   "file_extension": ".py",
   "mimetype": "text/x-python",
   "name": "python",
   "nbconvert_exporter": "python",
   "pygments_lexer": "ipython3",
   "version": "3.6.3"
  }
 },
 "nbformat": 4,
 "nbformat_minor": 2
}
